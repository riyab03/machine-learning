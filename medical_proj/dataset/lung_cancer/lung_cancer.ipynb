{
 "cells": [
  {
   "cell_type": "code",
   "execution_count": 4,
   "id": "0506a492",
   "metadata": {},
   "outputs": [],
   "source": [
    "import pandas as pd\n",
    "import numpy as np"
   ]
  },
  {
   "cell_type": "code",
   "execution_count": 5,
   "id": "5f3fa052",
   "metadata": {},
   "outputs": [],
   "source": [
    "lung_data= pd.read_csv(r\"C:\\Users\\riyab\\Desktop\\lung_cancer\\lung_cancer_dataset.csv\")"
   ]
  },
  {
   "cell_type": "code",
   "execution_count": 6,
   "id": "37d618d1",
   "metadata": {},
   "outputs": [
    {
     "data": {
      "text/html": [
       "<div>\n",
       "<style scoped>\n",
       "    .dataframe tbody tr th:only-of-type {\n",
       "        vertical-align: middle;\n",
       "    }\n",
       "\n",
       "    .dataframe tbody tr th {\n",
       "        vertical-align: top;\n",
       "    }\n",
       "\n",
       "    .dataframe thead th {\n",
       "        text-align: right;\n",
       "    }\n",
       "</style>\n",
       "<table border=\"1\" class=\"dataframe\">\n",
       "  <thead>\n",
       "    <tr style=\"text-align: right;\">\n",
       "      <th></th>\n",
       "      <th>index</th>\n",
       "      <th>Patient Id</th>\n",
       "      <th>Age</th>\n",
       "      <th>Gender</th>\n",
       "      <th>Air Pollution</th>\n",
       "      <th>Alcohol use</th>\n",
       "      <th>Dust Allergy</th>\n",
       "      <th>OccuPational Hazards</th>\n",
       "      <th>Genetic Risk</th>\n",
       "      <th>chronic Lung Disease</th>\n",
       "      <th>...</th>\n",
       "      <th>Fatigue</th>\n",
       "      <th>Weight Loss</th>\n",
       "      <th>Shortness of Breath</th>\n",
       "      <th>Wheezing</th>\n",
       "      <th>Swallowing Difficulty</th>\n",
       "      <th>Clubbing of Finger Nails</th>\n",
       "      <th>Frequent Cold</th>\n",
       "      <th>Dry Cough</th>\n",
       "      <th>Snoring</th>\n",
       "      <th>Level</th>\n",
       "    </tr>\n",
       "  </thead>\n",
       "  <tbody>\n",
       "    <tr>\n",
       "      <th>0</th>\n",
       "      <td>0</td>\n",
       "      <td>P1</td>\n",
       "      <td>33</td>\n",
       "      <td>1</td>\n",
       "      <td>2</td>\n",
       "      <td>4</td>\n",
       "      <td>5</td>\n",
       "      <td>4</td>\n",
       "      <td>3</td>\n",
       "      <td>2</td>\n",
       "      <td>...</td>\n",
       "      <td>3</td>\n",
       "      <td>4</td>\n",
       "      <td>2</td>\n",
       "      <td>2</td>\n",
       "      <td>3</td>\n",
       "      <td>1</td>\n",
       "      <td>2</td>\n",
       "      <td>3</td>\n",
       "      <td>4</td>\n",
       "      <td>Low</td>\n",
       "    </tr>\n",
       "    <tr>\n",
       "      <th>1</th>\n",
       "      <td>1</td>\n",
       "      <td>P10</td>\n",
       "      <td>17</td>\n",
       "      <td>1</td>\n",
       "      <td>3</td>\n",
       "      <td>1</td>\n",
       "      <td>5</td>\n",
       "      <td>3</td>\n",
       "      <td>4</td>\n",
       "      <td>2</td>\n",
       "      <td>...</td>\n",
       "      <td>1</td>\n",
       "      <td>3</td>\n",
       "      <td>7</td>\n",
       "      <td>8</td>\n",
       "      <td>6</td>\n",
       "      <td>2</td>\n",
       "      <td>1</td>\n",
       "      <td>7</td>\n",
       "      <td>2</td>\n",
       "      <td>Medium</td>\n",
       "    </tr>\n",
       "    <tr>\n",
       "      <th>2</th>\n",
       "      <td>2</td>\n",
       "      <td>P100</td>\n",
       "      <td>35</td>\n",
       "      <td>1</td>\n",
       "      <td>4</td>\n",
       "      <td>5</td>\n",
       "      <td>6</td>\n",
       "      <td>5</td>\n",
       "      <td>5</td>\n",
       "      <td>4</td>\n",
       "      <td>...</td>\n",
       "      <td>8</td>\n",
       "      <td>7</td>\n",
       "      <td>9</td>\n",
       "      <td>2</td>\n",
       "      <td>1</td>\n",
       "      <td>4</td>\n",
       "      <td>6</td>\n",
       "      <td>7</td>\n",
       "      <td>2</td>\n",
       "      <td>High</td>\n",
       "    </tr>\n",
       "    <tr>\n",
       "      <th>3</th>\n",
       "      <td>3</td>\n",
       "      <td>P1000</td>\n",
       "      <td>37</td>\n",
       "      <td>1</td>\n",
       "      <td>7</td>\n",
       "      <td>7</td>\n",
       "      <td>7</td>\n",
       "      <td>7</td>\n",
       "      <td>6</td>\n",
       "      <td>7</td>\n",
       "      <td>...</td>\n",
       "      <td>4</td>\n",
       "      <td>2</td>\n",
       "      <td>3</td>\n",
       "      <td>1</td>\n",
       "      <td>4</td>\n",
       "      <td>5</td>\n",
       "      <td>6</td>\n",
       "      <td>7</td>\n",
       "      <td>5</td>\n",
       "      <td>High</td>\n",
       "    </tr>\n",
       "    <tr>\n",
       "      <th>4</th>\n",
       "      <td>4</td>\n",
       "      <td>P101</td>\n",
       "      <td>46</td>\n",
       "      <td>1</td>\n",
       "      <td>6</td>\n",
       "      <td>8</td>\n",
       "      <td>7</td>\n",
       "      <td>7</td>\n",
       "      <td>7</td>\n",
       "      <td>6</td>\n",
       "      <td>...</td>\n",
       "      <td>3</td>\n",
       "      <td>2</td>\n",
       "      <td>4</td>\n",
       "      <td>1</td>\n",
       "      <td>4</td>\n",
       "      <td>2</td>\n",
       "      <td>4</td>\n",
       "      <td>2</td>\n",
       "      <td>3</td>\n",
       "      <td>High</td>\n",
       "    </tr>\n",
       "  </tbody>\n",
       "</table>\n",
       "<p>5 rows × 26 columns</p>\n",
       "</div>"
      ],
      "text/plain": [
       "   index Patient Id  Age  Gender  Air Pollution  Alcohol use  Dust Allergy  \\\n",
       "0      0         P1   33       1              2            4             5   \n",
       "1      1        P10   17       1              3            1             5   \n",
       "2      2       P100   35       1              4            5             6   \n",
       "3      3      P1000   37       1              7            7             7   \n",
       "4      4       P101   46       1              6            8             7   \n",
       "\n",
       "   OccuPational Hazards  Genetic Risk  chronic Lung Disease  ...  Fatigue  \\\n",
       "0                     4             3                     2  ...        3   \n",
       "1                     3             4                     2  ...        1   \n",
       "2                     5             5                     4  ...        8   \n",
       "3                     7             6                     7  ...        4   \n",
       "4                     7             7                     6  ...        3   \n",
       "\n",
       "   Weight Loss  Shortness of Breath  Wheezing  Swallowing Difficulty  \\\n",
       "0            4                    2         2                      3   \n",
       "1            3                    7         8                      6   \n",
       "2            7                    9         2                      1   \n",
       "3            2                    3         1                      4   \n",
       "4            2                    4         1                      4   \n",
       "\n",
       "   Clubbing of Finger Nails  Frequent Cold  Dry Cough  Snoring   Level  \n",
       "0                         1              2          3        4     Low  \n",
       "1                         2              1          7        2  Medium  \n",
       "2                         4              6          7        2    High  \n",
       "3                         5              6          7        5    High  \n",
       "4                         2              4          2        3    High  \n",
       "\n",
       "[5 rows x 26 columns]"
      ]
     },
     "execution_count": 6,
     "metadata": {},
     "output_type": "execute_result"
    }
   ],
   "source": [
    "lung_data.head()"
   ]
  },
  {
   "cell_type": "code",
   "execution_count": 7,
   "id": "02af66b5",
   "metadata": {},
   "outputs": [
    {
     "data": {
      "text/plain": [
       "(1000, 26)"
      ]
     },
     "execution_count": 7,
     "metadata": {},
     "output_type": "execute_result"
    }
   ],
   "source": [
    "lung_data.shape"
   ]
  },
  {
   "cell_type": "code",
   "execution_count": 8,
   "id": "27f2079a",
   "metadata": {},
   "outputs": [
    {
     "data": {
      "text/html": [
       "<div>\n",
       "<style scoped>\n",
       "    .dataframe tbody tr th:only-of-type {\n",
       "        vertical-align: middle;\n",
       "    }\n",
       "\n",
       "    .dataframe tbody tr th {\n",
       "        vertical-align: top;\n",
       "    }\n",
       "\n",
       "    .dataframe thead th {\n",
       "        text-align: right;\n",
       "    }\n",
       "</style>\n",
       "<table border=\"1\" class=\"dataframe\">\n",
       "  <thead>\n",
       "    <tr style=\"text-align: right;\">\n",
       "      <th></th>\n",
       "      <th>index</th>\n",
       "      <th>Age</th>\n",
       "      <th>Gender</th>\n",
       "      <th>Air Pollution</th>\n",
       "      <th>Alcohol use</th>\n",
       "      <th>Dust Allergy</th>\n",
       "      <th>OccuPational Hazards</th>\n",
       "      <th>Genetic Risk</th>\n",
       "      <th>chronic Lung Disease</th>\n",
       "      <th>Balanced Diet</th>\n",
       "      <th>...</th>\n",
       "      <th>Coughing of Blood</th>\n",
       "      <th>Fatigue</th>\n",
       "      <th>Weight Loss</th>\n",
       "      <th>Shortness of Breath</th>\n",
       "      <th>Wheezing</th>\n",
       "      <th>Swallowing Difficulty</th>\n",
       "      <th>Clubbing of Finger Nails</th>\n",
       "      <th>Frequent Cold</th>\n",
       "      <th>Dry Cough</th>\n",
       "      <th>Snoring</th>\n",
       "    </tr>\n",
       "  </thead>\n",
       "  <tbody>\n",
       "    <tr>\n",
       "      <th>count</th>\n",
       "      <td>1000.000000</td>\n",
       "      <td>1000.000000</td>\n",
       "      <td>1000.000000</td>\n",
       "      <td>1000.0000</td>\n",
       "      <td>1000.000000</td>\n",
       "      <td>1000.000000</td>\n",
       "      <td>1000.000000</td>\n",
       "      <td>1000.000000</td>\n",
       "      <td>1000.000000</td>\n",
       "      <td>1000.000000</td>\n",
       "      <td>...</td>\n",
       "      <td>1000.000000</td>\n",
       "      <td>1000.000000</td>\n",
       "      <td>1000.000000</td>\n",
       "      <td>1000.000000</td>\n",
       "      <td>1000.000000</td>\n",
       "      <td>1000.000000</td>\n",
       "      <td>1000.000000</td>\n",
       "      <td>1000.000000</td>\n",
       "      <td>1000.000000</td>\n",
       "      <td>1000.000000</td>\n",
       "    </tr>\n",
       "    <tr>\n",
       "      <th>mean</th>\n",
       "      <td>499.500000</td>\n",
       "      <td>37.174000</td>\n",
       "      <td>1.402000</td>\n",
       "      <td>3.8400</td>\n",
       "      <td>4.563000</td>\n",
       "      <td>5.165000</td>\n",
       "      <td>4.840000</td>\n",
       "      <td>4.580000</td>\n",
       "      <td>4.380000</td>\n",
       "      <td>4.491000</td>\n",
       "      <td>...</td>\n",
       "      <td>4.859000</td>\n",
       "      <td>3.856000</td>\n",
       "      <td>3.855000</td>\n",
       "      <td>4.240000</td>\n",
       "      <td>3.777000</td>\n",
       "      <td>3.746000</td>\n",
       "      <td>3.923000</td>\n",
       "      <td>3.536000</td>\n",
       "      <td>3.853000</td>\n",
       "      <td>2.926000</td>\n",
       "    </tr>\n",
       "    <tr>\n",
       "      <th>std</th>\n",
       "      <td>288.819436</td>\n",
       "      <td>12.005493</td>\n",
       "      <td>0.490547</td>\n",
       "      <td>2.0304</td>\n",
       "      <td>2.620477</td>\n",
       "      <td>1.980833</td>\n",
       "      <td>2.107805</td>\n",
       "      <td>2.126999</td>\n",
       "      <td>1.848518</td>\n",
       "      <td>2.135528</td>\n",
       "      <td>...</td>\n",
       "      <td>2.427965</td>\n",
       "      <td>2.244616</td>\n",
       "      <td>2.206546</td>\n",
       "      <td>2.285087</td>\n",
       "      <td>2.041921</td>\n",
       "      <td>2.270383</td>\n",
       "      <td>2.388048</td>\n",
       "      <td>1.832502</td>\n",
       "      <td>2.039007</td>\n",
       "      <td>1.474686</td>\n",
       "    </tr>\n",
       "    <tr>\n",
       "      <th>min</th>\n",
       "      <td>0.000000</td>\n",
       "      <td>14.000000</td>\n",
       "      <td>1.000000</td>\n",
       "      <td>1.0000</td>\n",
       "      <td>1.000000</td>\n",
       "      <td>1.000000</td>\n",
       "      <td>1.000000</td>\n",
       "      <td>1.000000</td>\n",
       "      <td>1.000000</td>\n",
       "      <td>1.000000</td>\n",
       "      <td>...</td>\n",
       "      <td>1.000000</td>\n",
       "      <td>1.000000</td>\n",
       "      <td>1.000000</td>\n",
       "      <td>1.000000</td>\n",
       "      <td>1.000000</td>\n",
       "      <td>1.000000</td>\n",
       "      <td>1.000000</td>\n",
       "      <td>1.000000</td>\n",
       "      <td>1.000000</td>\n",
       "      <td>1.000000</td>\n",
       "    </tr>\n",
       "    <tr>\n",
       "      <th>25%</th>\n",
       "      <td>249.750000</td>\n",
       "      <td>27.750000</td>\n",
       "      <td>1.000000</td>\n",
       "      <td>2.0000</td>\n",
       "      <td>2.000000</td>\n",
       "      <td>4.000000</td>\n",
       "      <td>3.000000</td>\n",
       "      <td>2.000000</td>\n",
       "      <td>3.000000</td>\n",
       "      <td>2.000000</td>\n",
       "      <td>...</td>\n",
       "      <td>3.000000</td>\n",
       "      <td>2.000000</td>\n",
       "      <td>2.000000</td>\n",
       "      <td>2.000000</td>\n",
       "      <td>2.000000</td>\n",
       "      <td>2.000000</td>\n",
       "      <td>2.000000</td>\n",
       "      <td>2.000000</td>\n",
       "      <td>2.000000</td>\n",
       "      <td>2.000000</td>\n",
       "    </tr>\n",
       "    <tr>\n",
       "      <th>50%</th>\n",
       "      <td>499.500000</td>\n",
       "      <td>36.000000</td>\n",
       "      <td>1.000000</td>\n",
       "      <td>3.0000</td>\n",
       "      <td>5.000000</td>\n",
       "      <td>6.000000</td>\n",
       "      <td>5.000000</td>\n",
       "      <td>5.000000</td>\n",
       "      <td>4.000000</td>\n",
       "      <td>4.000000</td>\n",
       "      <td>...</td>\n",
       "      <td>4.000000</td>\n",
       "      <td>3.000000</td>\n",
       "      <td>3.000000</td>\n",
       "      <td>4.000000</td>\n",
       "      <td>4.000000</td>\n",
       "      <td>4.000000</td>\n",
       "      <td>4.000000</td>\n",
       "      <td>3.000000</td>\n",
       "      <td>4.000000</td>\n",
       "      <td>3.000000</td>\n",
       "    </tr>\n",
       "    <tr>\n",
       "      <th>75%</th>\n",
       "      <td>749.250000</td>\n",
       "      <td>45.000000</td>\n",
       "      <td>2.000000</td>\n",
       "      <td>6.0000</td>\n",
       "      <td>7.000000</td>\n",
       "      <td>7.000000</td>\n",
       "      <td>7.000000</td>\n",
       "      <td>7.000000</td>\n",
       "      <td>6.000000</td>\n",
       "      <td>7.000000</td>\n",
       "      <td>...</td>\n",
       "      <td>7.000000</td>\n",
       "      <td>5.000000</td>\n",
       "      <td>6.000000</td>\n",
       "      <td>6.000000</td>\n",
       "      <td>5.000000</td>\n",
       "      <td>5.000000</td>\n",
       "      <td>5.000000</td>\n",
       "      <td>5.000000</td>\n",
       "      <td>6.000000</td>\n",
       "      <td>4.000000</td>\n",
       "    </tr>\n",
       "    <tr>\n",
       "      <th>max</th>\n",
       "      <td>999.000000</td>\n",
       "      <td>73.000000</td>\n",
       "      <td>2.000000</td>\n",
       "      <td>8.0000</td>\n",
       "      <td>8.000000</td>\n",
       "      <td>8.000000</td>\n",
       "      <td>8.000000</td>\n",
       "      <td>7.000000</td>\n",
       "      <td>7.000000</td>\n",
       "      <td>7.000000</td>\n",
       "      <td>...</td>\n",
       "      <td>9.000000</td>\n",
       "      <td>9.000000</td>\n",
       "      <td>8.000000</td>\n",
       "      <td>9.000000</td>\n",
       "      <td>8.000000</td>\n",
       "      <td>8.000000</td>\n",
       "      <td>9.000000</td>\n",
       "      <td>7.000000</td>\n",
       "      <td>7.000000</td>\n",
       "      <td>7.000000</td>\n",
       "    </tr>\n",
       "  </tbody>\n",
       "</table>\n",
       "<p>8 rows × 24 columns</p>\n",
       "</div>"
      ],
      "text/plain": [
       "             index          Age       Gender  Air Pollution  Alcohol use  \\\n",
       "count  1000.000000  1000.000000  1000.000000      1000.0000  1000.000000   \n",
       "mean    499.500000    37.174000     1.402000         3.8400     4.563000   \n",
       "std     288.819436    12.005493     0.490547         2.0304     2.620477   \n",
       "min       0.000000    14.000000     1.000000         1.0000     1.000000   \n",
       "25%     249.750000    27.750000     1.000000         2.0000     2.000000   \n",
       "50%     499.500000    36.000000     1.000000         3.0000     5.000000   \n",
       "75%     749.250000    45.000000     2.000000         6.0000     7.000000   \n",
       "max     999.000000    73.000000     2.000000         8.0000     8.000000   \n",
       "\n",
       "       Dust Allergy  OccuPational Hazards  Genetic Risk  chronic Lung Disease  \\\n",
       "count   1000.000000           1000.000000   1000.000000           1000.000000   \n",
       "mean       5.165000              4.840000      4.580000              4.380000   \n",
       "std        1.980833              2.107805      2.126999              1.848518   \n",
       "min        1.000000              1.000000      1.000000              1.000000   \n",
       "25%        4.000000              3.000000      2.000000              3.000000   \n",
       "50%        6.000000              5.000000      5.000000              4.000000   \n",
       "75%        7.000000              7.000000      7.000000              6.000000   \n",
       "max        8.000000              8.000000      7.000000              7.000000   \n",
       "\n",
       "       Balanced Diet  ...  Coughing of Blood      Fatigue  Weight Loss  \\\n",
       "count    1000.000000  ...        1000.000000  1000.000000  1000.000000   \n",
       "mean        4.491000  ...           4.859000     3.856000     3.855000   \n",
       "std         2.135528  ...           2.427965     2.244616     2.206546   \n",
       "min         1.000000  ...           1.000000     1.000000     1.000000   \n",
       "25%         2.000000  ...           3.000000     2.000000     2.000000   \n",
       "50%         4.000000  ...           4.000000     3.000000     3.000000   \n",
       "75%         7.000000  ...           7.000000     5.000000     6.000000   \n",
       "max         7.000000  ...           9.000000     9.000000     8.000000   \n",
       "\n",
       "       Shortness of Breath     Wheezing  Swallowing Difficulty  \\\n",
       "count          1000.000000  1000.000000            1000.000000   \n",
       "mean              4.240000     3.777000               3.746000   \n",
       "std               2.285087     2.041921               2.270383   \n",
       "min               1.000000     1.000000               1.000000   \n",
       "25%               2.000000     2.000000               2.000000   \n",
       "50%               4.000000     4.000000               4.000000   \n",
       "75%               6.000000     5.000000               5.000000   \n",
       "max               9.000000     8.000000               8.000000   \n",
       "\n",
       "       Clubbing of Finger Nails  Frequent Cold    Dry Cough      Snoring  \n",
       "count               1000.000000    1000.000000  1000.000000  1000.000000  \n",
       "mean                   3.923000       3.536000     3.853000     2.926000  \n",
       "std                    2.388048       1.832502     2.039007     1.474686  \n",
       "min                    1.000000       1.000000     1.000000     1.000000  \n",
       "25%                    2.000000       2.000000     2.000000     2.000000  \n",
       "50%                    4.000000       3.000000     4.000000     3.000000  \n",
       "75%                    5.000000       5.000000     6.000000     4.000000  \n",
       "max                    9.000000       7.000000     7.000000     7.000000  \n",
       "\n",
       "[8 rows x 24 columns]"
      ]
     },
     "execution_count": 8,
     "metadata": {},
     "output_type": "execute_result"
    }
   ],
   "source": [
    "lung_data.describe()"
   ]
  },
  {
   "cell_type": "code",
   "execution_count": 9,
   "id": "e0646056",
   "metadata": {},
   "outputs": [
    {
     "data": {
      "text/plain": [
       "High      365\n",
       "Medium    332\n",
       "Low       303\n",
       "Name: Level, dtype: int64"
      ]
     },
     "execution_count": 9,
     "metadata": {},
     "output_type": "execute_result"
    }
   ],
   "source": [
    "lung_data['Level'].value_counts()"
   ]
  },
  {
   "cell_type": "code",
   "execution_count": 10,
   "id": "1c98e675",
   "metadata": {},
   "outputs": [
    {
     "data": {
      "text/plain": [
       "index                       0\n",
       "Patient Id                  0\n",
       "Age                         0\n",
       "Gender                      0\n",
       "Air Pollution               0\n",
       "Alcohol use                 0\n",
       "Dust Allergy                0\n",
       "OccuPational Hazards        0\n",
       "Genetic Risk                0\n",
       "chronic Lung Disease        0\n",
       "Balanced Diet               0\n",
       "Obesity                     0\n",
       "Smoking                     0\n",
       "Passive Smoker              0\n",
       "Chest Pain                  0\n",
       "Coughing of Blood           0\n",
       "Fatigue                     0\n",
       "Weight Loss                 0\n",
       "Shortness of Breath         0\n",
       "Wheezing                    0\n",
       "Swallowing Difficulty       0\n",
       "Clubbing of Finger Nails    0\n",
       "Frequent Cold               0\n",
       "Dry Cough                   0\n",
       "Snoring                     0\n",
       "Level                       0\n",
       "dtype: int64"
      ]
     },
     "execution_count": 10,
     "metadata": {},
     "output_type": "execute_result"
    }
   ],
   "source": [
    "lung_data.isnull().sum()"
   ]
  },
  {
   "cell_type": "code",
   "execution_count": 11,
   "id": "9049d82f",
   "metadata": {},
   "outputs": [],
   "source": [
    "lung_data.drop(['index','Patient Id','Age','Gender'],axis=1,inplace=True)"
   ]
  },
  {
   "cell_type": "markdown",
   "id": "f61d4dca",
   "metadata": {},
   "source": [
    "Categorical values to numerical"
   ]
  },
  {
   "cell_type": "code",
   "execution_count": 12,
   "id": "6481da9a",
   "metadata": {},
   "outputs": [],
   "source": [
    "from sklearn.preprocessing import LabelEncoder\n",
    "label_encoder = LabelEncoder()\n",
    "categorical_columns = lung_data.select_dtypes(include=['object']).columns\n",
    "lung_data[categorical_columns] = lung_data[categorical_columns].apply(lambda col: label_encoder.fit_transform(col.astype(str)))"
   ]
  },
  {
   "cell_type": "code",
   "execution_count": 13,
   "id": "851a63c3",
   "metadata": {},
   "outputs": [
    {
     "data": {
      "text/html": [
       "<div>\n",
       "<style scoped>\n",
       "    .dataframe tbody tr th:only-of-type {\n",
       "        vertical-align: middle;\n",
       "    }\n",
       "\n",
       "    .dataframe tbody tr th {\n",
       "        vertical-align: top;\n",
       "    }\n",
       "\n",
       "    .dataframe thead th {\n",
       "        text-align: right;\n",
       "    }\n",
       "</style>\n",
       "<table border=\"1\" class=\"dataframe\">\n",
       "  <thead>\n",
       "    <tr style=\"text-align: right;\">\n",
       "      <th></th>\n",
       "      <th>Air Pollution</th>\n",
       "      <th>Alcohol use</th>\n",
       "      <th>Dust Allergy</th>\n",
       "      <th>OccuPational Hazards</th>\n",
       "      <th>Genetic Risk</th>\n",
       "      <th>chronic Lung Disease</th>\n",
       "      <th>Balanced Diet</th>\n",
       "      <th>Obesity</th>\n",
       "      <th>Smoking</th>\n",
       "      <th>Passive Smoker</th>\n",
       "      <th>...</th>\n",
       "      <th>Fatigue</th>\n",
       "      <th>Weight Loss</th>\n",
       "      <th>Shortness of Breath</th>\n",
       "      <th>Wheezing</th>\n",
       "      <th>Swallowing Difficulty</th>\n",
       "      <th>Clubbing of Finger Nails</th>\n",
       "      <th>Frequent Cold</th>\n",
       "      <th>Dry Cough</th>\n",
       "      <th>Snoring</th>\n",
       "      <th>Level</th>\n",
       "    </tr>\n",
       "  </thead>\n",
       "  <tbody>\n",
       "    <tr>\n",
       "      <th>0</th>\n",
       "      <td>2</td>\n",
       "      <td>4</td>\n",
       "      <td>5</td>\n",
       "      <td>4</td>\n",
       "      <td>3</td>\n",
       "      <td>2</td>\n",
       "      <td>2</td>\n",
       "      <td>4</td>\n",
       "      <td>3</td>\n",
       "      <td>2</td>\n",
       "      <td>...</td>\n",
       "      <td>3</td>\n",
       "      <td>4</td>\n",
       "      <td>2</td>\n",
       "      <td>2</td>\n",
       "      <td>3</td>\n",
       "      <td>1</td>\n",
       "      <td>2</td>\n",
       "      <td>3</td>\n",
       "      <td>4</td>\n",
       "      <td>1</td>\n",
       "    </tr>\n",
       "    <tr>\n",
       "      <th>1</th>\n",
       "      <td>3</td>\n",
       "      <td>1</td>\n",
       "      <td>5</td>\n",
       "      <td>3</td>\n",
       "      <td>4</td>\n",
       "      <td>2</td>\n",
       "      <td>2</td>\n",
       "      <td>2</td>\n",
       "      <td>2</td>\n",
       "      <td>4</td>\n",
       "      <td>...</td>\n",
       "      <td>1</td>\n",
       "      <td>3</td>\n",
       "      <td>7</td>\n",
       "      <td>8</td>\n",
       "      <td>6</td>\n",
       "      <td>2</td>\n",
       "      <td>1</td>\n",
       "      <td>7</td>\n",
       "      <td>2</td>\n",
       "      <td>2</td>\n",
       "    </tr>\n",
       "    <tr>\n",
       "      <th>2</th>\n",
       "      <td>4</td>\n",
       "      <td>5</td>\n",
       "      <td>6</td>\n",
       "      <td>5</td>\n",
       "      <td>5</td>\n",
       "      <td>4</td>\n",
       "      <td>6</td>\n",
       "      <td>7</td>\n",
       "      <td>2</td>\n",
       "      <td>3</td>\n",
       "      <td>...</td>\n",
       "      <td>8</td>\n",
       "      <td>7</td>\n",
       "      <td>9</td>\n",
       "      <td>2</td>\n",
       "      <td>1</td>\n",
       "      <td>4</td>\n",
       "      <td>6</td>\n",
       "      <td>7</td>\n",
       "      <td>2</td>\n",
       "      <td>0</td>\n",
       "    </tr>\n",
       "    <tr>\n",
       "      <th>3</th>\n",
       "      <td>7</td>\n",
       "      <td>7</td>\n",
       "      <td>7</td>\n",
       "      <td>7</td>\n",
       "      <td>6</td>\n",
       "      <td>7</td>\n",
       "      <td>7</td>\n",
       "      <td>7</td>\n",
       "      <td>7</td>\n",
       "      <td>7</td>\n",
       "      <td>...</td>\n",
       "      <td>4</td>\n",
       "      <td>2</td>\n",
       "      <td>3</td>\n",
       "      <td>1</td>\n",
       "      <td>4</td>\n",
       "      <td>5</td>\n",
       "      <td>6</td>\n",
       "      <td>7</td>\n",
       "      <td>5</td>\n",
       "      <td>0</td>\n",
       "    </tr>\n",
       "    <tr>\n",
       "      <th>4</th>\n",
       "      <td>6</td>\n",
       "      <td>8</td>\n",
       "      <td>7</td>\n",
       "      <td>7</td>\n",
       "      <td>7</td>\n",
       "      <td>6</td>\n",
       "      <td>7</td>\n",
       "      <td>7</td>\n",
       "      <td>8</td>\n",
       "      <td>7</td>\n",
       "      <td>...</td>\n",
       "      <td>3</td>\n",
       "      <td>2</td>\n",
       "      <td>4</td>\n",
       "      <td>1</td>\n",
       "      <td>4</td>\n",
       "      <td>2</td>\n",
       "      <td>4</td>\n",
       "      <td>2</td>\n",
       "      <td>3</td>\n",
       "      <td>0</td>\n",
       "    </tr>\n",
       "  </tbody>\n",
       "</table>\n",
       "<p>5 rows × 22 columns</p>\n",
       "</div>"
      ],
      "text/plain": [
       "   Air Pollution  Alcohol use  Dust Allergy  OccuPational Hazards  \\\n",
       "0              2            4             5                     4   \n",
       "1              3            1             5                     3   \n",
       "2              4            5             6                     5   \n",
       "3              7            7             7                     7   \n",
       "4              6            8             7                     7   \n",
       "\n",
       "   Genetic Risk  chronic Lung Disease  Balanced Diet  Obesity  Smoking  \\\n",
       "0             3                     2              2        4        3   \n",
       "1             4                     2              2        2        2   \n",
       "2             5                     4              6        7        2   \n",
       "3             6                     7              7        7        7   \n",
       "4             7                     6              7        7        8   \n",
       "\n",
       "   Passive Smoker  ...  Fatigue  Weight Loss  Shortness of Breath  Wheezing  \\\n",
       "0               2  ...        3            4                    2         2   \n",
       "1               4  ...        1            3                    7         8   \n",
       "2               3  ...        8            7                    9         2   \n",
       "3               7  ...        4            2                    3         1   \n",
       "4               7  ...        3            2                    4         1   \n",
       "\n",
       "   Swallowing Difficulty  Clubbing of Finger Nails  Frequent Cold  Dry Cough  \\\n",
       "0                      3                         1              2          3   \n",
       "1                      6                         2              1          7   \n",
       "2                      1                         4              6          7   \n",
       "3                      4                         5              6          7   \n",
       "4                      4                         2              4          2   \n",
       "\n",
       "   Snoring  Level  \n",
       "0        4      1  \n",
       "1        2      2  \n",
       "2        2      0  \n",
       "3        5      0  \n",
       "4        3      0  \n",
       "\n",
       "[5 rows x 22 columns]"
      ]
     },
     "execution_count": 13,
     "metadata": {},
     "output_type": "execute_result"
    }
   ],
   "source": [
    "lung_data.head()"
   ]
  },
  {
   "cell_type": "code",
   "execution_count": 14,
   "id": "48e2d676",
   "metadata": {},
   "outputs": [
    {
     "data": {
      "text/plain": [
       "0    365\n",
       "2    332\n",
       "1    303\n",
       "Name: Level, dtype: int64"
      ]
     },
     "execution_count": 14,
     "metadata": {},
     "output_type": "execute_result"
    }
   ],
   "source": [
    "lung_data['Level'].value_counts()"
   ]
  },
  {
   "cell_type": "markdown",
   "id": "c98486c2",
   "metadata": {},
   "source": [
    "0-> High\n",
    "2->Moderate\n",
    "1->low"
   ]
  },
  {
   "cell_type": "code",
   "execution_count": 15,
   "id": "dc5462a5",
   "metadata": {},
   "outputs": [
    {
     "name": "stdout",
     "output_type": "stream",
     "text": [
      "Highly Correlated Features: {'Chest Pain', 'Coughing of Blood', 'chronic Lung Disease', 'OccuPational Hazards', 'Dust Allergy', 'Genetic Risk'}\n"
     ]
    }
   ],
   "source": [
    "correlated_features = set()\n",
    "correlation_matrix = lung_data.corr()\n",
    "for i in range(len(correlation_matrix.columns)):\n",
    "    for j in range(i):\n",
    "        if abs(correlation_matrix.iloc[i, j]) > 0.8:\n",
    "            colname = correlation_matrix.columns[i]\n",
    "            correlated_features.add(colname)\n",
    "print(\"Highly Correlated Features:\", correlated_features)"
   ]
  },
  {
   "cell_type": "code",
   "execution_count": 16,
   "id": "d761c7f8",
   "metadata": {},
   "outputs": [],
   "source": [
    "X = lung_data.drop(columns = 'Level',axis=1)\n",
    "Y = lung_data['Level']"
   ]
  },
  {
   "cell_type": "code",
   "execution_count": 17,
   "id": "e677d949",
   "metadata": {
    "scrolled": true
   },
   "outputs": [
    {
     "name": "stdout",
     "output_type": "stream",
     "text": [
      "Coughing of Blood           0.153876\n",
      "Obesity                     0.100598\n",
      "Wheezing                    0.086447\n",
      "Passive Smoker              0.073525\n",
      "Fatigue                     0.053737\n",
      "Balanced Diet               0.052994\n",
      "Air Pollution               0.050427\n",
      "Dust Allergy                0.049640\n",
      "Alcohol use                 0.048267\n",
      "Shortness of Breath         0.044469\n",
      "Clubbing of Finger Nails    0.037639\n",
      "Swallowing Difficulty       0.036367\n",
      "Snoring                     0.036085\n",
      "Genetic Risk                0.029172\n",
      "Smoking                     0.026664\n",
      "OccuPational Hazards        0.026485\n",
      "Frequent Cold               0.021449\n",
      "Weight Loss                 0.019808\n",
      "Chest Pain                  0.019658\n",
      "Dry Cough                   0.016844\n",
      "chronic Lung Disease        0.015850\n",
      "dtype: float64\n"
     ]
    }
   ],
   "source": [
    "\n",
    "from sklearn.ensemble import RandomForestClassifier\n",
    "model = RandomForestClassifier()\n",
    "model.fit(X, Y)\n",
    "\n",
    "feature_importances = pd.Series(model.feature_importances_, index=X.columns)\n",
    "feature_importances = feature_importances.sort_values(ascending=False)\n",
    "\n",
    "print(feature_importances)"
   ]
  },
  {
   "cell_type": "code",
   "execution_count": 18,
   "id": "e1e13734",
   "metadata": {},
   "outputs": [],
   "source": [
    "lung_data.drop(['Dry Cough','chronic Lung Disease','Chest Pain','Weight Loss','Clubbing of Finger Nails','Wheezing','Frequent Cold','OccuPational Hazards','Swallowing Difficulty'],axis=1,inplace=True)"
   ]
  },
  {
   "cell_type": "code",
   "execution_count": 19,
   "id": "f5ac765b",
   "metadata": {},
   "outputs": [
    {
     "data": {
      "text/plain": [
       "(1000, 13)"
      ]
     },
     "execution_count": 19,
     "metadata": {},
     "output_type": "execute_result"
    }
   ],
   "source": [
    "lung_data.columns\n",
    "lung_data.shape"
   ]
  },
  {
   "cell_type": "code",
   "execution_count": 20,
   "id": "38c88539",
   "metadata": {},
   "outputs": [],
   "source": [
    "X = lung_data.drop(columns = 'Level',axis=1)\n",
    "Y = lung_data['Level']\n",
    "from sklearn.model_selection import train_test_split\n",
    "X_train,X_test,Y_train,Y_test= train_test_split(X,Y,test_size=0.2,stratify=Y,random_state=2)"
   ]
  },
  {
   "cell_type": "code",
   "execution_count": 21,
   "id": "9bea7514",
   "metadata": {},
   "outputs": [
    {
     "name": "stdout",
     "output_type": "stream",
     "text": [
      "(1000, 12)\n",
      "(800, 12)\n",
      "(200, 12)\n"
     ]
    }
   ],
   "source": [
    "print(X.shape)\n",
    "print(X_train.shape)\n",
    "print(X_test.shape)"
   ]
  },
  {
   "cell_type": "markdown",
   "id": "33c6c2f1",
   "metadata": {},
   "source": [
    "Logistic Regression"
   ]
  },
  {
   "cell_type": "code",
   "execution_count": 22,
   "id": "a2eccd25",
   "metadata": {},
   "outputs": [
    {
     "name": "stdout",
     "output_type": "stream",
     "text": [
      "Logistic Regression Accuracy (training): 0.9475\n",
      "Logistic Regression Accuracy (testing): 0.955\n",
      "Logistic Regression Precision (testing): 0.9568964530892446\n",
      "Logistic Regression Recall (testing): 0.955\n",
      "Logistic Regression F1-Score (testing): 0.9548751446424438\n"
     ]
    },
    {
     "name": "stderr",
     "output_type": "stream",
     "text": [
      "C:\\Users\\riyab\\AppData\\Local\\Programs\\Python\\Python311\\Lib\\site-packages\\sklearn\\linear_model\\_logistic.py:458: ConvergenceWarning: lbfgs failed to converge (status=1):\n",
      "STOP: TOTAL NO. of ITERATIONS REACHED LIMIT.\n",
      "\n",
      "Increase the number of iterations (max_iter) or scale the data as shown in:\n",
      "    https://scikit-learn.org/stable/modules/preprocessing.html\n",
      "Please also refer to the documentation for alternative solver options:\n",
      "    https://scikit-learn.org/stable/modules/linear_model.html#logistic-regression\n",
      "  n_iter_i = _check_optimize_result(\n"
     ]
    }
   ],
   "source": [
    "from sklearn.linear_model import LogisticRegression\n",
    "from sklearn import metrics\n",
    "from sklearn.metrics import accuracy_score, precision_score, recall_score, f1_score, classification_report\n",
    "\n",
    "logistic_model = LogisticRegression(C=0.1)\n",
    "logistic_model.fit(X_train, Y_train)\n",
    "\n",
    "Y_prediction_lr_train = logistic_model.predict(X_train)\n",
    "Y_prediction_lr_test = logistic_model.predict(X_test)\n",
    "\n",
    "accuracy_lr_train = metrics.accuracy_score(Y_train, Y_prediction_lr_train)\n",
    "accuracy_lr_test = metrics.accuracy_score(Y_test, Y_prediction_lr_test)\n",
    "precision_lr_test = precision_score(Y_test, Y_prediction_lr_test, average='weighted')\n",
    "recall_lr_test = recall_score(Y_test, Y_prediction_lr_test, average='weighted')\n",
    "f1_lr_test = f1_score(Y_test, Y_prediction_lr_test, average='weighted')\n",
    "\n",
    "print(f\"Logistic Regression Accuracy (training): {accuracy_lr_train}\")\n",
    "print(f\"Logistic Regression Accuracy (testing): {accuracy_lr_test}\")\n",
    "print(f\"Logistic Regression Precision (testing): {precision_lr_test}\")\n",
    "print(f\"Logistic Regression Recall (testing): {recall_lr_test}\")\n",
    "print(f\"Logistic Regression F1-Score (testing): {f1_lr_test}\")"
   ]
  },
  {
   "cell_type": "markdown",
   "id": "ee455e7f",
   "metadata": {},
   "source": [
    "Naive bayes"
   ]
  },
  {
   "cell_type": "code",
   "execution_count": 23,
   "id": "275908c1",
   "metadata": {},
   "outputs": [
    {
     "name": "stdout",
     "output_type": "stream",
     "text": [
      "Naive Bayes Accuracy (training): 0.845\n",
      "Naive Bayes Accuracy (testing): 0.81\n",
      "Naive Bayes Precision: 0.8065569620253165\n",
      "Naive Bayes Recall: 0.81\n",
      "Naive Bayes F1 Score: 0.8072525062656642\n"
     ]
    }
   ],
   "source": [
    "from sklearn.naive_bayes import GaussianNB\n",
    "from sklearn import metrics\n",
    "from sklearn.utils import shuffle\n",
    "from sklearn.metrics import accuracy_score, precision_score, recall_score, f1_score, classification_report\n",
    "\n",
    "nb_model = GaussianNB()\n",
    "nb_model.fit(X_train, Y_train)\n",
    "\n",
    "Y_prediction_nb_train = nb_model.predict(X_train)\n",
    "Y_prediction_nb_test = nb_model.predict(X_test)\n",
    "\n",
    "accuracy_nb_train = metrics.accuracy_score(Y_train, Y_prediction_nb_train)\n",
    "accuracy_nb_test = metrics.accuracy_score(Y_test, Y_prediction_nb_test)\n",
    "precision_nb_test = precision_score(Y_test, Y_prediction_nb_test, average='weighted')\n",
    "recall_nb_test = recall_score(Y_test, Y_prediction_nb_test, average='weighted')\n",
    "f1_nb_test = f1_score(Y_test, Y_prediction_nb_test, average='weighted')\n",
    "\n",
    "\n",
    "print(f\"Naive Bayes Accuracy (training): {accuracy_nb_train}\")\n",
    "print(f\"Naive Bayes Accuracy (testing): {accuracy_nb_test}\")\n",
    "print(f\"Naive Bayes Precision: {precision_nb_test}\")\n",
    "print(f\"Naive Bayes Recall: {recall_nb_test}\")\n",
    "print(f\"Naive Bayes F1 Score: {f1_nb_test}\")"
   ]
  },
  {
   "cell_type": "markdown",
   "id": "1d477030",
   "metadata": {},
   "source": [
    "Random forest"
   ]
  },
  {
   "cell_type": "code",
   "execution_count": 24,
   "id": "39af4507",
   "metadata": {},
   "outputs": [
    {
     "name": "stdout",
     "output_type": "stream",
     "text": [
      "Random Forest Accuracy (training): 0.98875\n",
      "Random Forest Accuracy (testing): 0.995\n",
      "Random Forest Precision: 0.9950746268656716\n",
      "Random Forest Recall: 0.995\n",
      "Random Forest F1 Score: 0.9949981358354565\n"
     ]
    }
   ],
   "source": [
    "from sklearn.ensemble import RandomForestClassifier\n",
    "from sklearn import metrics\n",
    "\n",
    "rf_model = RandomForestClassifier(random_state=42, max_depth=3) \n",
    "rf_model.fit(X_train, Y_train)\n",
    "\n",
    "Y_prediction_rf_train = rf_model.predict(X_train)\n",
    "Y_prediction_rf_test = rf_model.predict(X_test)\n",
    "\n",
    "accuracy_rf_train = metrics.accuracy_score(Y_train, Y_prediction_rf_train)\n",
    "accuracy_rf_test = metrics.accuracy_score(Y_test, Y_prediction_rf_test)\n",
    "precision_rf_test = precision_score(Y_test, Y_prediction_rf_test, average='weighted')\n",
    "recall_rf_test = recall_score(Y_test, Y_prediction_rf_test, average='weighted')\n",
    "f1_rf_test = f1_score(Y_test, Y_prediction_rf_test, average='weighted') \n",
    "\n",
    "print(f\"Random Forest Accuracy (training): {accuracy_rf_train}\")\n",
    "print(f\"Random Forest Accuracy (testing): {accuracy_rf_test}\")\n",
    "print(f\"Random Forest Precision: {precision_rf_test}\")\n",
    "print(f\"Random Forest Recall: {recall_rf_test}\")\n",
    "print(f\"Random Forest F1 Score: {f1_rf_test}\")"
   ]
  },
  {
   "cell_type": "markdown",
   "id": "e62e945a",
   "metadata": {},
   "source": [
    "SVM"
   ]
  },
  {
   "cell_type": "code",
   "execution_count": 25,
   "id": "341f4d13",
   "metadata": {
    "scrolled": true
   },
   "outputs": [
    {
     "name": "stdout",
     "output_type": "stream",
     "text": [
      "SVM Accuracy (training): 0.9925\n",
      "SVM Accuracy (testing): 0.98\n",
      "SVM Precision: 0.9811428571428571\n",
      "SVM Recall: 0.98\n",
      "SVM F1 Score: 0.9799551345962114\n"
     ]
    }
   ],
   "source": [
    "from sklearn.svm import SVC\n",
    "from sklearn import metrics\n",
    "\n",
    "svm_model = SVC(kernel='linear', random_state=42, C=0.1)\n",
    "svm_model.fit(X_train, Y_train)\n",
    "\n",
    "Y_prediction_svm_train = svm_model.predict(X_train)\n",
    "Y_prediction_svm_test = svm_model.predict(X_test)\n",
    "\n",
    "accuracy_svm_train = metrics.accuracy_score(Y_train, Y_prediction_svm_train)\n",
    "accuracy_svm_test = metrics.accuracy_score(Y_test, Y_prediction_svm_test)\n",
    "precision_svm_test = precision_score(Y_test, Y_prediction_svm_test, average='weighted')\n",
    "recall_svm_test = recall_score(Y_test, Y_prediction_svm_test, average='weighted')\n",
    "f1_svm_test = f1_score(Y_test, Y_prediction_svm_test, average='weighted')\n",
    "\n",
    "print(f\"SVM Accuracy (training): {accuracy_svm_train}\")\n",
    "print(f\"SVM Accuracy (testing): {accuracy_svm_test}\")\n",
    "print(f\"SVM Precision: {precision_svm_test}\")\n",
    "print(f\"SVM Recall: {recall_svm_test}\")\n",
    "print(f\"SVM F1 Score: {f1_svm_test}\")"
   ]
  },
  {
   "cell_type": "markdown",
   "id": "9a50cb50",
   "metadata": {},
   "source": [
    "KNN"
   ]
  },
  {
   "cell_type": "code",
   "execution_count": 26,
   "id": "6a8320c0",
   "metadata": {
    "scrolled": true
   },
   "outputs": [
    {
     "name": "stdout",
     "output_type": "stream",
     "text": [
      "KNN Accuracy (training): 0.99375\n",
      "KNN Accuracy (testing): 0.975\n",
      "KNN Precision: 0.9768939393939394\n",
      "KNN Recall: 0.975\n",
      "KNN F1 Score: 0.975\n"
     ]
    }
   ],
   "source": [
    "from sklearn.neighbors import KNeighborsClassifier\n",
    "from sklearn import metrics\n",
    "from sklearn.utils import shuffle\n",
    "\n",
    "knn_model = KNeighborsClassifier(n_neighbors=10)\n",
    "knn_model.fit(X_train, Y_train)\n",
    "\n",
    "Y_prediction_knn_train = knn_model.predict(X_train)\n",
    "Y_prediction_knn_test = knn_model.predict(X_test)\n",
    "\n",
    "accuracy_knn_train = metrics.accuracy_score(Y_train, Y_prediction_knn_train)\n",
    "accuracy_knn_test = metrics.accuracy_score(Y_test, Y_prediction_knn_test)\n",
    "precision_knn_test=precision_score(Y_test, Y_prediction_knn_test, average='weighted')\n",
    "recall_knn_test = recall_score(Y_test, Y_prediction_knn_test, average='weighted')\n",
    "f1_knn_test = f1_score(Y_test, Y_prediction_knn_test, average='weighted')\n",
    "\n",
    "print(f\"KNN Accuracy (training): {accuracy_knn_train}\")\n",
    "print(f\"KNN Accuracy (testing): {accuracy_knn_test}\")\n",
    "print(f\"KNN Precision: {precision_knn_test}\")\n",
    "print(f\"KNN Recall: {recall_knn_test}\")\n",
    "print(f\"KNN F1 Score: {f1_knn_test}\")"
   ]
  },
  {
   "cell_type": "markdown",
   "id": "a13b27bd",
   "metadata": {},
   "source": [
    "Kmean Clustering"
   ]
  },
  {
   "cell_type": "code",
   "execution_count": 27,
   "id": "71dbcf52",
   "metadata": {},
   "outputs": [
    {
     "name": "stdout",
     "output_type": "stream",
     "text": [
      "K-Means Clustering Accuracy (testing): 0.4728441291531548\n"
     ]
    },
    {
     "name": "stderr",
     "output_type": "stream",
     "text": [
      "C:\\Users\\riyab\\AppData\\Local\\Programs\\Python\\Python311\\Lib\\site-packages\\sklearn\\cluster\\_kmeans.py:870: FutureWarning: The default value of `n_init` will change from 10 to 'auto' in 1.4. Set the value of `n_init` explicitly to suppress the warning\n",
      "  warnings.warn(\n"
     ]
    }
   ],
   "source": [
    "from sklearn.cluster import KMeans\n",
    "from sklearn import metrics\n",
    "import numpy as np\n",
    "\n",
    "k = 3\n",
    "kmeans = KMeans(n_clusters=k, random_state=42)\n",
    "\n",
    "kmeans.fit(X_train)\n",
    "Y_prediction_kmeans_test = kmeans.predict(X_test)\n",
    "\n",
    "accuracy_kmeans_test = metrics.adjusted_rand_score(Y_test, Y_prediction_kmeans_test)\n",
    "precision_knn_test = precision_score(Y_test, Y_prediction_knn_test, average='weighted')\n",
    "recall_knn_test = recall_score(Y_test, Y_prediction_knn_test, average='weighted')\n",
    "f1_knn_test = f1_score(Y_test, Y_prediction_knn_test, average='weighted')\n",
    "print(f\"K-Means Clustering Accuracy (testing): {accuracy_kmeans_test}\")"
   ]
  },
  {
   "cell_type": "code",
   "execution_count": 28,
   "id": "1c30818e",
   "metadata": {},
   "outputs": [
    {
     "data": {
      "image/png": "[encoded data removed]",
      "text/plain": [
       "<Figure size 640x480 with 1 Axes>"
      ]
     },
     "metadata": {},
     "output_type": "display_data"
    }
   ],
   "source": [
    "import matplotlib.pyplot as plt\n",
    "\n",
    "techniques = ['Logistic regression', 'Naive bayes', 'Random Forest', 'SVM', 'KNN']\n",
    "accuracy_scores = [0.955, 0.81, 0.995, 0.98, 0.975]\n",
    "\n",
    "plt.plot(techniques, accuracy_scores, marker='o', linestyle='-', color='b')\n",
    "plt.xlabel('Techniques')\n",
    "plt.ylabel('Accuracy')\n",
    "plt.title('Comparison of Techniques')\n",
    "plt.ylim(0, 1)  \n",
    "plt.grid(True) \n",
    "plt.show()"
   ]
  },
  {
   "cell_type": "code",
   "execution_count": 29,
   "id": "66cd1f59",
   "metadata": {},
   "outputs": [
    {
     "name": "stdout",
     "output_type": "stream",
     "text": [
      "[1]\n"
     ]
    },
    {
     "name": "stderr",
     "output_type": "stream",
     "text": [
      "C:\\Users\\riyab\\AppData\\Local\\Programs\\Python\\Python311\\Lib\\site-packages\\sklearn\\base.py:439: UserWarning: X does not have valid feature names, but KNeighborsClassifier was fitted with feature names\n",
      "  warnings.warn(\n"
     ]
    }
   ],
   "source": [
    "input_data=(2,4,5,3,2,4,3,2,4,3,2,4)\n",
    "input_data_as_numpy_array=np.asarray(input_data)\n",
    "input_data_reshaped=input_data_as_numpy_array.reshape(1,-1)\n",
    "prediction = knn_model.predict(input_data_reshaped)\n",
    "print(prediction)"
   ]
  },
  {
   "cell_type": "code",
   "execution_count": 30,
   "id": "bb5921a1",
   "metadata": {},
   "outputs": [
    {
     "name": "stdout",
     "output_type": "stream",
     "text": [
      "Air Pollution          2\n",
      "Alcohol use            4\n",
      "Dust Allergy           5\n",
      "Genetic Risk           3\n",
      "Balanced Diet          2\n",
      "Obesity                4\n",
      "Smoking                3\n",
      "Passive Smoker         2\n",
      "Coughing of Blood      4\n",
      "Fatigue                3\n",
      "Shortness of Breath    2\n",
      "Snoring                4\n",
      "Level                  1\n",
      "Name: 0, dtype: int64\n"
     ]
    }
   ],
   "source": [
    "print(lung_data.iloc[0])"
   ]
  },
  {
   "cell_type": "code",
   "execution_count": 31,
   "id": "fbc5f552",
   "metadata": {},
   "outputs": [],
   "source": [
    "import pickle\n",
    "filename='lung_data.sav'\n",
    "pickle.dump(rf_model,open(filename,'wb'))"
   ]
  },
  {
   "cell_type": "code",
   "execution_count": 34,
   "id": "25347278",
   "metadata": {},
   "outputs": [
    {
     "data": {
      "text/plain": [
       "Air Pollution          1\n",
       "Alcohol use            6\n",
       "Dust Allergy           7\n",
       "Genetic Risk           3\n",
       "Balanced Diet          6\n",
       "Obesity                2\n",
       "Smoking                3\n",
       "Passive Smoker         3\n",
       "Coughing of Blood      2\n",
       "Fatigue                3\n",
       "Shortness of Breath    7\n",
       "Snoring                5\n",
       "Level                  2\n",
       "Name: 300, dtype: int64"
      ]
     },
     "execution_count": 34,
     "metadata": {},
     "output_type": "execute_result"
    }
   ],
   "source": [
    "lung_data.iloc[300] "
   ]
  },
  {
   "cell_type": "code",
   "execution_count": null,
   "id": "c4bf569f",
   "metadata": {},
   "outputs": [],
   "source": [
    "6->7->3->6->2->3->3->2->3->7->5"
   ]
  },
  {
   "cell_type": "code",
   "execution_count": null,
   "id": "ec650646",
   "metadata": {},
   "outputs": [],
   "source": []
  }
 ],
 "metadata": {
  "kernelspec": {
   "display_name": "Python 3 (ipykernel)",
   "language": "python",
   "name": "python3"
  },
  "language_info": {
   "codemirror_mode": {
    "name": "ipython",
    "version": 3
   },
   "file_extension": ".py",
   "mimetype": "text/x-python",
   "name": "python",
   "nbconvert_exporter": "python",
   "pygments_lexer": "ipython3",
   "version": "3.11.4"
  }
 },
 "nbformat": 4,
 "nbformat_minor": 5
}
